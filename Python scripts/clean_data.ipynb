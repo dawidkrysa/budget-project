{
 "cells": [
  {
   "cell_type": "markdown",
   "metadata": {},
   "source": [
    "Imports"
   ]
  },
  {
   "cell_type": "code",
   "execution_count": 19,
   "metadata": {},
   "outputs": [],
   "source": [
    "import pandas as pd\n",
    "import numpy as np\n",
    "import matplotlib.pyplot as plt\n",
    "import psycopg2 as pg\n",
    "import warnings\n",
    "from tkinter import *\n",
    "from tkinter.filedialog import askopenfilename\n",
    "import os\n",
    "from dotenv import load_dotenv\n",
    "warnings.filterwarnings(\"ignore\")\n"
   ]
  },
  {
   "cell_type": "markdown",
   "metadata": {},
   "source": [
    "Choose and open sheet"
   ]
  },
  {
   "cell_type": "code",
   "execution_count": 20,
   "metadata": {},
   "outputs": [
    {
     "name": "stdout",
     "output_type": "stream",
     "text": [
      "Nazwa pliku to: C:/Users/Dawid Krysa/Downloads/lista_operacji_250101_250126_202501261646088931.csv\n"
     ]
    }
   ],
   "source": [
    "Tk().withdraw()\n",
    "filename = askopenfilename() # show an \"Open\" dialog box and return the path to the selected file\n",
    "print(f\"Nazwa pliku to: {filename}\")\n",
    "xls = pd.read_csv(filename)"
   ]
  },
  {
   "cell_type": "markdown",
   "metadata": {},
   "source": [
    "Connect to database"
   ]
  },
  {
   "cell_type": "code",
   "execution_count": 44,
   "metadata": {},
   "outputs": [],
   "source": [
    "# Read data from .env file\n",
    "load_dotenv()\n",
    "\n",
    "# Connect to an existing database\n",
    "conn = pg.connect(f\"dbname={os.getenv('POSTGRES_DB')} user={os.getenv('POSTGRES_USER')} password={os.getenv('POSTGRES_PASSWORD')}\")\n",
    "\n",
    "# Open a cursor to perform database operations\n",
    "cur = conn.cursor()\n"
   ]
  },
  {
   "cell_type": "markdown",
   "metadata": {},
   "source": [
    "Execute a test query"
   ]
  },
  {
   "cell_type": "code",
   "execution_count": 45,
   "metadata": {},
   "outputs": [
    {
     "name": "stdout",
     "output_type": "stream",
     "text": [
      "(6, 'Poduszka finansowa', 1, False)\n",
      "(7, 'Wkład własny', 1, False)\n",
      "(8, 'Portfel długoterminowy', 1, False)\n",
      "(9, 'Najem i media', 2, False)\n",
      "(10, 'Zakupy spożywcze', 2, False)\n",
      "(11, 'Internet', 2, False)\n",
      "(12, 'Telefon', 2, False)\n",
      "(13, 'Transport', 2, False)\n",
      "(14, 'Serwisy streamingowe', 2, False)\n",
      "(15, 'Kosmetyki, drogera i środki czystości', 2, False)\n",
      "(16, 'Nieprzewidziane wydatki', 2, False)\n",
      "(17, 'Leasing', 3, False)\n",
      "(18, 'Księgowy', 3, False)\n",
      "(19, 'Kredyt gotówkowy', 3, False)\n",
      "(20, 'Fryzjer', 4, False)\n",
      "(21, 'Ubrania', 4, False)\n",
      "(22, 'Jedzenie na mieście', 4, False)\n",
      "(23, 'Inne', 4, False)\n",
      "(24, 'Urodziny', 5, True)\n"
     ]
    }
   ],
   "source": [
    "cur.execute(\"SELECT * FROM categories WHERE main_category_id IS NOT NULL\")\n",
    "rows = cur.fetchall()\n",
    "for row in rows:\n",
    "    print(row)"
   ]
  },
  {
   "cell_type": "markdown",
   "metadata": {},
   "source": [
    "Convert data from csv file"
   ]
  },
  {
   "cell_type": "code",
   "execution_count": 27,
   "metadata": {},
   "outputs": [
    {
     "name": "stdout",
     "output_type": "stream",
     "text": [
      "<bound method DataFrame.to_string of     Data operacji        Opis operacji    Kwota\n",
      "0      26/01/2025                 DODO   -66.98\n",
      "1      26/01/2025              GABRIEL       20\n",
      "2      25/01/2025                  JMP   -77.24\n",
      "3      25/01/2025                DAWID      100\n",
      "4      25/01/2025              GABRIEL       20\n",
      "..            ...                  ...      ...\n",
      "97     02/01/2025            CUKIERNIA       -2\n",
      "98     02/01/2025              GABRIEL       30\n",
      "99     01/01/2025              Spotify   -23.99\n",
      "100    01/01/2025  Microsoft*Microsoft   -29.99\n",
      "101    01/01/2025              NETCAMP  -173.87\n",
      "\n",
      "[102 rows x 3 columns]>\n"
     ]
    }
   ],
   "source": [
    "xls['Opis operacji'] = xls['Opis operacji'].str.split(\" \").str[0]\n",
    "\n",
    "xls = xls.drop(columns=['Kategoria','Rachunek'])\n",
    "\n",
    "# Convert the date format to YYYY-MM-DD\n",
    "xls['Data operacji'] = pd.to_datetime(xls['Data operacji']).dt.strftime('%Y-%m-%d')\n",
    "\n",
    "# Convert 'Kwota' column to numeric, coerce errors to NaN\n",
    "xls['Kwota'] = pd.to_numeric(xls['Kwota'], errors='coerce')\n",
    "\n",
    "# Drop rows with NaN values in 'Kwota' column\n",
    "xls = xls.dropna(subset=['Kwota'])"
   ]
  },
  {
   "cell_type": "markdown",
   "metadata": {},
   "source": [
    "Add data to database"
   ]
  },
  {
   "cell_type": "code",
   "execution_count": null,
   "metadata": {},
   "outputs": [],
   "source": [
    "# Insert data into the database\n",
    "cur.executemany(\n",
    "    \"INSERT INTO transactions (date, memo, amount) VALUES (%s, %s, %s)\",\n",
    "    xls[['Data operacji', 'Opis operacji', 'Kwota']].values.tolist()\n",
    ")\n",
    "conn.commit()\n"
   ]
  }
 ],
 "metadata": {
  "kernelspec": {
   "display_name": "Python 3",
   "language": "python",
   "name": "python3"
  },
  "language_info": {
   "codemirror_mode": {
    "name": "ipython",
    "version": 3
   },
   "file_extension": ".py",
   "mimetype": "text/x-python",
   "name": "python",
   "nbconvert_exporter": "python",
   "pygments_lexer": "ipython3",
   "version": "3.13.1"
  }
 },
 "nbformat": 4,
 "nbformat_minor": 2
}
